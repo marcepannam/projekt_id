{
 "cells": [
  {
   "cell_type": "code",
   "execution_count": 72,
   "metadata": {
    "collapsed": true
   },
   "outputs": [],
   "source": [
    "import pandas as pd"
   ]
  },
  {
   "cell_type": "code",
   "execution_count": 126,
   "metadata": {
    "collapsed": true
   },
   "outputs": [],
   "source": [
    "df = pd.read_csv('airports.dat', encoding='utf-8', header=None)"
   ]
  },
  {
   "cell_type": "code",
   "execution_count": 127,
   "metadata": {
    "collapsed": false
   },
   "outputs": [
    {
     "data": {
      "text/html": [
       "<div>\n",
       "<style scoped>\n",
       "    .dataframe tbody tr th:only-of-type {\n",
       "        vertical-align: middle;\n",
       "    }\n",
       "\n",
       "    .dataframe tbody tr th {\n",
       "        vertical-align: top;\n",
       "    }\n",
       "\n",
       "    .dataframe thead th {\n",
       "        text-align: right;\n",
       "    }\n",
       "</style>\n",
       "<table border=\"1\" class=\"dataframe\">\n",
       "  <thead>\n",
       "    <tr style=\"text-align: right;\">\n",
       "      <th></th>\n",
       "      <th>0</th>\n",
       "      <th>1</th>\n",
       "      <th>2</th>\n",
       "      <th>3</th>\n",
       "      <th>4</th>\n",
       "      <th>5</th>\n",
       "      <th>6</th>\n",
       "      <th>7</th>\n",
       "      <th>8</th>\n",
       "      <th>9</th>\n",
       "      <th>10</th>\n",
       "      <th>11</th>\n",
       "      <th>12</th>\n",
       "      <th>13</th>\n",
       "    </tr>\n",
       "  </thead>\n",
       "  <tbody>\n",
       "    <tr>\n",
       "      <th>7179</th>\n",
       "      <td>12053</td>\n",
       "      <td>Rugao Air Base</td>\n",
       "      <td>Rugao</td>\n",
       "      <td>China</td>\n",
       "      <td>RUG</td>\n",
       "      <td>ZSRG</td>\n",
       "      <td>32.257885</td>\n",
       "      <td>120.501656</td>\n",
       "      <td>0</td>\n",
       "      <td>\\N</td>\n",
       "      <td>\\N</td>\n",
       "      <td>\\N</td>\n",
       "      <td>airport</td>\n",
       "      <td>OurAirports</td>\n",
       "    </tr>\n",
       "    <tr>\n",
       "      <th>7180</th>\n",
       "      <td>12054</td>\n",
       "      <td>Wuhu Air Base</td>\n",
       "      <td>Wuhu</td>\n",
       "      <td>China</td>\n",
       "      <td>WHU</td>\n",
       "      <td>ZSWU</td>\n",
       "      <td>31.390600</td>\n",
       "      <td>118.408997</td>\n",
       "      <td>0</td>\n",
       "      <td>\\N</td>\n",
       "      <td>\\N</td>\n",
       "      <td>\\N</td>\n",
       "      <td>airport</td>\n",
       "      <td>OurAirports</td>\n",
       "    </tr>\n",
       "    <tr>\n",
       "      <th>7181</th>\n",
       "      <td>12055</td>\n",
       "      <td>Shanshan Airport</td>\n",
       "      <td>Shanshan</td>\n",
       "      <td>China</td>\n",
       "      <td>SXJ</td>\n",
       "      <td>ZWSS</td>\n",
       "      <td>42.911701</td>\n",
       "      <td>90.247498</td>\n",
       "      <td>0</td>\n",
       "      <td>\\N</td>\n",
       "      <td>\\N</td>\n",
       "      <td>\\N</td>\n",
       "      <td>airport</td>\n",
       "      <td>OurAirports</td>\n",
       "    </tr>\n",
       "    <tr>\n",
       "      <th>7182</th>\n",
       "      <td>12056</td>\n",
       "      <td>Yingkou Lanqi Airport</td>\n",
       "      <td>Yingkou</td>\n",
       "      <td>China</td>\n",
       "      <td>YKH</td>\n",
       "      <td>ZYYK</td>\n",
       "      <td>40.542524</td>\n",
       "      <td>122.358600</td>\n",
       "      <td>0</td>\n",
       "      <td>\\N</td>\n",
       "      <td>\\N</td>\n",
       "      <td>\\N</td>\n",
       "      <td>airport</td>\n",
       "      <td>OurAirports</td>\n",
       "    </tr>\n",
       "    <tr>\n",
       "      <th>7183</th>\n",
       "      <td>12057</td>\n",
       "      <td>Shenyang Dongta Airport</td>\n",
       "      <td>Shenyang</td>\n",
       "      <td>China</td>\n",
       "      <td>\\N</td>\n",
       "      <td>ZYYY</td>\n",
       "      <td>41.784401</td>\n",
       "      <td>123.496002</td>\n",
       "      <td>0</td>\n",
       "      <td>\\N</td>\n",
       "      <td>\\N</td>\n",
       "      <td>\\N</td>\n",
       "      <td>airport</td>\n",
       "      <td>OurAirports</td>\n",
       "    </tr>\n",
       "  </tbody>\n",
       "</table>\n",
       "</div>"
      ],
      "text/plain": [
       "         0                        1         2      3    4     5          6   \\\n",
       "7179  12053           Rugao Air Base     Rugao  China  RUG  ZSRG  32.257885   \n",
       "7180  12054            Wuhu Air Base      Wuhu  China  WHU  ZSWU  31.390600   \n",
       "7181  12055         Shanshan Airport  Shanshan  China  SXJ  ZWSS  42.911701   \n",
       "7182  12056    Yingkou Lanqi Airport   Yingkou  China  YKH  ZYYK  40.542524   \n",
       "7183  12057  Shenyang Dongta Airport  Shenyang  China   \\N  ZYYY  41.784401   \n",
       "\n",
       "              7   8   9   10  11       12           13  \n",
       "7179  120.501656   0  \\N  \\N  \\N  airport  OurAirports  \n",
       "7180  118.408997   0  \\N  \\N  \\N  airport  OurAirports  \n",
       "7181   90.247498   0  \\N  \\N  \\N  airport  OurAirports  \n",
       "7182  122.358600   0  \\N  \\N  \\N  airport  OurAirports  \n",
       "7183  123.496002   0  \\N  \\N  \\N  airport  OurAirports  "
      ]
     },
     "execution_count": 127,
     "metadata": {},
     "output_type": "execute_result"
    }
   ],
   "source": [
    "df.tail()"
   ]
  },
  {
   "cell_type": "code",
   "execution_count": 128,
   "metadata": {
    "collapsed": true
   },
   "outputs": [],
   "source": [
    "df.columns = [\n",
    "'AirportID',\n",
    "'Name',\n",
    "'City',\n",
    "'Country',\n",
    "'IATA',\n",
    "'ICAO',\n",
    "'Latitude',\n",
    "'Longitude',\n",
    "'Altitude',\n",
    "'Timezone',\n",
    "'DST',\n",
    "'Tz database time zone',\n",
    "'Type',\n",
    "'Source']\n",
    "df = df.reindex(columns=[\n",
    "'IATA',\n",
    "'AirportID',\n",
    "'Name',\n",
    "'City',\n",
    "'Country',\n",
    "'ICAO',\n",
    "'Latitude',\n",
    "'Longitude',\n",
    "'Altitude',\n",
    "'Timezone',\n",
    "'DST',\n",
    "'Tz database time zone',\n",
    "'Type',\n",
    "'Source'])"
   ]
  },
  {
   "cell_type": "code",
   "execution_count": 129,
   "metadata": {
    "collapsed": false
   },
   "outputs": [],
   "source": [
    "filtered = df[(df.City != '\\N') & (pd.notnull(df.City))\n",
    "              & (pd.notnull(df.Longitude))\n",
    "              & (pd.notnull(df.Latitude))\n",
    "              & (df.Country != '\\N') & (pd.notnull(df.Country))\n",
    "              & (df.IATA != '\\N') & (pd.notnull(df.IATA))\n",
    "              & (df.ICAO != '\\N') & (pd.notnull(df.ICAO))]"
   ]
  },
  {
   "cell_type": "code",
   "execution_count": 130,
   "metadata": {
    "collapsed": false
   },
   "outputs": [
    {
     "data": {
      "text/html": [
       "<div>\n",
       "<style scoped>\n",
       "    .dataframe tbody tr th:only-of-type {\n",
       "        vertical-align: middle;\n",
       "    }\n",
       "\n",
       "    .dataframe tbody tr th {\n",
       "        vertical-align: top;\n",
       "    }\n",
       "\n",
       "    .dataframe thead th {\n",
       "        text-align: right;\n",
       "    }\n",
       "</style>\n",
       "<table border=\"1\" class=\"dataframe\">\n",
       "  <thead>\n",
       "    <tr style=\"text-align: right;\">\n",
       "      <th></th>\n",
       "      <th>IATA</th>\n",
       "      <th>AirportID</th>\n",
       "      <th>Name</th>\n",
       "      <th>City</th>\n",
       "      <th>Country</th>\n",
       "      <th>ICAO</th>\n",
       "      <th>Latitude</th>\n",
       "      <th>Longitude</th>\n",
       "      <th>Altitude</th>\n",
       "      <th>Timezone</th>\n",
       "      <th>DST</th>\n",
       "      <th>Tz database time zone</th>\n",
       "      <th>Type</th>\n",
       "      <th>Source</th>\n",
       "    </tr>\n",
       "  </thead>\n",
       "  <tbody>\n",
       "    <tr>\n",
       "      <th>4243</th>\n",
       "      <td>DSA</td>\n",
       "      <td>5562</td>\n",
       "      <td>Robin Hood Doncaster Sheffield Airport</td>\n",
       "      <td>Doncaster. Sheffield</td>\n",
       "      <td>United Kingdom</td>\n",
       "      <td>EGCN</td>\n",
       "      <td>53.480538</td>\n",
       "      <td>-1.010656</td>\n",
       "      <td>55</td>\n",
       "      <td>0</td>\n",
       "      <td>E</td>\n",
       "      <td>Europe/London</td>\n",
       "      <td>airport</td>\n",
       "      <td>OurAirports</td>\n",
       "    </tr>\n",
       "  </tbody>\n",
       "</table>\n",
       "</div>"
      ],
      "text/plain": [
       "     IATA  AirportID                                    Name  \\\n",
       "4243  DSA       5562  Robin Hood Doncaster Sheffield Airport   \n",
       "\n",
       "                      City         Country  ICAO   Latitude  Longitude  \\\n",
       "4243  Doncaster. Sheffield  United Kingdom  EGCN  53.480538  -1.010656   \n",
       "\n",
       "      Altitude Timezone DST Tz database time zone     Type       Source  \n",
       "4243        55        0   E         Europe/London  airport  OurAirports  "
      ]
     },
     "execution_count": 130,
     "metadata": {},
     "output_type": "execute_result"
    }
   ],
   "source": [
    "filtered.Name = filtered.Name.apply(lambda x: x.replace(',','.'))\n",
    "filtered.City = filtered.City.apply(lambda x: x.replace(',','.'))\n",
    "filtered.Name = filtered.Name.apply(lambda x: x.replace('\"',' '))\n",
    "filtered[filtered.IATA == 'DSA']"
   ]
  },
  {
   "cell_type": "code",
   "execution_count": 131,
   "metadata": {
    "collapsed": false
   },
   "outputs": [],
   "source": [
    "filtered[['IATA',  'Name', 'City', 'ICAO', 'Latitude', 'Longitude']].to_csv('airports_fil.txt', index=False, encoding='utf-8');"
   ]
  },
  {
   "cell_type": "code",
   "execution_count": null,
   "metadata": {
    "collapsed": true
   },
   "outputs": [],
   "source": []
  }
 ],
 "metadata": {
  "kernelspec": {
   "display_name": "Python 2",
   "language": "python",
   "name": "python2"
  },
  "language_info": {
   "codemirror_mode": {
    "name": "ipython",
    "version": 2
   },
   "file_extension": ".py",
   "mimetype": "text/x-python",
   "name": "python",
   "nbconvert_exporter": "python",
   "pygments_lexer": "ipython2",
   "version": "2.7.11"
  }
 },
 "nbformat": 4,
 "nbformat_minor": 0
}
